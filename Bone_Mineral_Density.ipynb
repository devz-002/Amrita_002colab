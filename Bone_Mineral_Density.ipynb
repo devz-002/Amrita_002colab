{
  "nbformat": 4,
  "nbformat_minor": 0,
  "metadata": {
    "colab": {
      "name": "Bone Mineral Density.ipynb",
      "provenance": [],
      "collapsed_sections": [],
      "mount_file_id": "1RXCyFef-BBS58R1wxSYuHCu1iGXc4icv",
      "authorship_tag": "ABX9TyM2LWQk0H5xzFhYKPIA2diV",
      "include_colab_link": true
    },
    "kernelspec": {
      "name": "python3",
      "display_name": "Python 3"
    },
    "language_info": {
      "name": "python"
    }
  },
  "cells": [
    {
      "cell_type": "markdown",
      "metadata": {
        "id": "view-in-github",
        "colab_type": "text"
      },
      "source": [
        "<a href=\"https://colab.research.google.com/github/devz-002/Amrita_002colab/blob/main/Bone_Mineral_Density.ipynb\" target=\"_parent\"><img src=\"https://colab.research.google.com/assets/colab-badge.svg\" alt=\"Open In Colab\"/></a>"
      ]
    },
    {
      "cell_type": "code",
      "metadata": {
        "id": "HDpHt-nLR79l"
      },
      "source": [
        "########################## CODE WITH SKLEARN LIBRARY IMPLEMENTATION OF FLD(Code Inbuilt)\n",
        "# Classification Type : Fischer Linear Discriminant Analysis (FLD)\n",
        "# Using only Two factors BMD vs Fractures(1/0)\n",
        "# DATASET :\"Bone Mineral Density(bmd.csv)\"\n",
        "#########################"
      ],
      "execution_count": null,
      "outputs": []
    },
    {
      "cell_type": "code",
      "metadata": {
        "id": "qfRg-LNzSFCh"
      },
      "source": [
        "#########################\n",
        "# Importing Basic Libraries\n",
        "#########################\n",
        "import pandas as pd\n",
        "import numpy as np\n",
        "import math"
      ],
      "execution_count": 10,
      "outputs": []
    },
    {
      "cell_type": "code",
      "metadata": {
        "colab": {
          "base_uri": "https://localhost:8080/",
          "height": 206
        },
        "id": "0nEAu73uSegm",
        "outputId": "743ee3a0-3d50-425c-f9e6-f715356c2edd"
      },
      "source": [
        "#########################\n",
        "# Loading dataset\n",
        "#########################\n",
        "df = pd.read_csv(\"/content/drive/MyDrive/ColabNotebooks/bmd.csv\")\n",
        "df.head(5)"
      ],
      "execution_count": 11,
      "outputs": [
        {
          "output_type": "execute_result",
          "data": {
            "text/html": [
              "<div>\n",
              "<style scoped>\n",
              "    .dataframe tbody tr th:only-of-type {\n",
              "        vertical-align: middle;\n",
              "    }\n",
              "\n",
              "    .dataframe tbody tr th {\n",
              "        vertical-align: top;\n",
              "    }\n",
              "\n",
              "    .dataframe thead th {\n",
              "        text-align: right;\n",
              "    }\n",
              "</style>\n",
              "<table border=\"1\" class=\"dataframe\">\n",
              "  <thead>\n",
              "    <tr style=\"text-align: right;\">\n",
              "      <th></th>\n",
              "      <th>id</th>\n",
              "      <th>age</th>\n",
              "      <th>sex</th>\n",
              "      <th>fracture</th>\n",
              "      <th>weight_kg</th>\n",
              "      <th>height_cm</th>\n",
              "      <th>medication</th>\n",
              "      <th>waiting_time</th>\n",
              "      <th>bmd</th>\n",
              "    </tr>\n",
              "  </thead>\n",
              "  <tbody>\n",
              "    <tr>\n",
              "      <th>0</th>\n",
              "      <td>469</td>\n",
              "      <td>57.052768</td>\n",
              "      <td>F</td>\n",
              "      <td>no fracture</td>\n",
              "      <td>64.0</td>\n",
              "      <td>155.5</td>\n",
              "      <td>Anticonvulsant</td>\n",
              "      <td>18</td>\n",
              "      <td>0.8793</td>\n",
              "    </tr>\n",
              "    <tr>\n",
              "      <th>1</th>\n",
              "      <td>8724</td>\n",
              "      <td>75.741225</td>\n",
              "      <td>F</td>\n",
              "      <td>no fracture</td>\n",
              "      <td>78.0</td>\n",
              "      <td>162.0</td>\n",
              "      <td>No medication</td>\n",
              "      <td>56</td>\n",
              "      <td>0.7946</td>\n",
              "    </tr>\n",
              "    <tr>\n",
              "      <th>2</th>\n",
              "      <td>6736</td>\n",
              "      <td>70.778900</td>\n",
              "      <td>M</td>\n",
              "      <td>no fracture</td>\n",
              "      <td>73.0</td>\n",
              "      <td>170.5</td>\n",
              "      <td>No medication</td>\n",
              "      <td>10</td>\n",
              "      <td>0.9067</td>\n",
              "    </tr>\n",
              "    <tr>\n",
              "      <th>3</th>\n",
              "      <td>24180</td>\n",
              "      <td>78.247175</td>\n",
              "      <td>F</td>\n",
              "      <td>no fracture</td>\n",
              "      <td>60.0</td>\n",
              "      <td>148.0</td>\n",
              "      <td>No medication</td>\n",
              "      <td>14</td>\n",
              "      <td>0.7112</td>\n",
              "    </tr>\n",
              "    <tr>\n",
              "      <th>4</th>\n",
              "      <td>17072</td>\n",
              "      <td>54.191877</td>\n",
              "      <td>M</td>\n",
              "      <td>no fracture</td>\n",
              "      <td>55.0</td>\n",
              "      <td>161.0</td>\n",
              "      <td>No medication</td>\n",
              "      <td>20</td>\n",
              "      <td>0.7909</td>\n",
              "    </tr>\n",
              "  </tbody>\n",
              "</table>\n",
              "</div>"
            ],
            "text/plain": [
              "      id        age sex  ...      medication  waiting_time     bmd\n",
              "0    469  57.052768   F  ...  Anticonvulsant            18  0.8793\n",
              "1   8724  75.741225   F  ...   No medication            56  0.7946\n",
              "2   6736  70.778900   M  ...   No medication            10  0.9067\n",
              "3  24180  78.247175   F  ...   No medication            14  0.7112\n",
              "4  17072  54.191877   M  ...   No medication            20  0.7909\n",
              "\n",
              "[5 rows x 9 columns]"
            ]
          },
          "metadata": {},
          "execution_count": 11
        }
      ]
    },
    {
      "cell_type": "code",
      "metadata": {
        "colab": {
          "base_uri": "https://localhost:8080/",
          "height": 423
        },
        "id": "1COAZcfMT23C",
        "outputId": "25d2d8ee-30ae-4f38-b63e-396759c0626d"
      },
      "source": [
        "################\n",
        "# Cleaning Data\n",
        "###############\n",
        "\n",
        "from sklearn.preprocessing import LabelEncoder\n",
        "\n",
        "# creating instance of labelencoder\n",
        "labelencoder = LabelEncoder()\n",
        "# Assigning numerical values and storing in another column\n",
        "df['fracture']=labelencoder.fit_transform(df['fracture'])\n",
        "df['medication']=labelencoder.fit_transform(df['medication'])\n",
        "df['sex']=labelencoder.fit_transform(df['sex'])\n",
        "df=df.drop(['id'],axis = 1)\n",
        "df"
      ],
      "execution_count": 12,
      "outputs": [
        {
          "output_type": "execute_result",
          "data": {
            "text/html": [
              "<div>\n",
              "<style scoped>\n",
              "    .dataframe tbody tr th:only-of-type {\n",
              "        vertical-align: middle;\n",
              "    }\n",
              "\n",
              "    .dataframe tbody tr th {\n",
              "        vertical-align: top;\n",
              "    }\n",
              "\n",
              "    .dataframe thead th {\n",
              "        text-align: right;\n",
              "    }\n",
              "</style>\n",
              "<table border=\"1\" class=\"dataframe\">\n",
              "  <thead>\n",
              "    <tr style=\"text-align: right;\">\n",
              "      <th></th>\n",
              "      <th>age</th>\n",
              "      <th>sex</th>\n",
              "      <th>fracture</th>\n",
              "      <th>weight_kg</th>\n",
              "      <th>height_cm</th>\n",
              "      <th>medication</th>\n",
              "      <th>waiting_time</th>\n",
              "      <th>bmd</th>\n",
              "    </tr>\n",
              "  </thead>\n",
              "  <tbody>\n",
              "    <tr>\n",
              "      <th>0</th>\n",
              "      <td>57.052768</td>\n",
              "      <td>0</td>\n",
              "      <td>1</td>\n",
              "      <td>64.0</td>\n",
              "      <td>155.5</td>\n",
              "      <td>0</td>\n",
              "      <td>18</td>\n",
              "      <td>0.8793</td>\n",
              "    </tr>\n",
              "    <tr>\n",
              "      <th>1</th>\n",
              "      <td>75.741225</td>\n",
              "      <td>0</td>\n",
              "      <td>1</td>\n",
              "      <td>78.0</td>\n",
              "      <td>162.0</td>\n",
              "      <td>2</td>\n",
              "      <td>56</td>\n",
              "      <td>0.7946</td>\n",
              "    </tr>\n",
              "    <tr>\n",
              "      <th>2</th>\n",
              "      <td>70.778900</td>\n",
              "      <td>1</td>\n",
              "      <td>1</td>\n",
              "      <td>73.0</td>\n",
              "      <td>170.5</td>\n",
              "      <td>2</td>\n",
              "      <td>10</td>\n",
              "      <td>0.9067</td>\n",
              "    </tr>\n",
              "    <tr>\n",
              "      <th>3</th>\n",
              "      <td>78.247175</td>\n",
              "      <td>0</td>\n",
              "      <td>1</td>\n",
              "      <td>60.0</td>\n",
              "      <td>148.0</td>\n",
              "      <td>2</td>\n",
              "      <td>14</td>\n",
              "      <td>0.7112</td>\n",
              "    </tr>\n",
              "    <tr>\n",
              "      <th>4</th>\n",
              "      <td>54.191877</td>\n",
              "      <td>1</td>\n",
              "      <td>1</td>\n",
              "      <td>55.0</td>\n",
              "      <td>161.0</td>\n",
              "      <td>2</td>\n",
              "      <td>20</td>\n",
              "      <td>0.7909</td>\n",
              "    </tr>\n",
              "    <tr>\n",
              "      <th>...</th>\n",
              "      <td>...</td>\n",
              "      <td>...</td>\n",
              "      <td>...</td>\n",
              "      <td>...</td>\n",
              "      <td>...</td>\n",
              "      <td>...</td>\n",
              "      <td>...</td>\n",
              "      <td>...</td>\n",
              "    </tr>\n",
              "    <tr>\n",
              "      <th>164</th>\n",
              "      <td>77.982543</td>\n",
              "      <td>1</td>\n",
              "      <td>0</td>\n",
              "      <td>74.0</td>\n",
              "      <td>164.0</td>\n",
              "      <td>2</td>\n",
              "      <td>49</td>\n",
              "      <td>0.7941</td>\n",
              "    </tr>\n",
              "    <tr>\n",
              "      <th>165</th>\n",
              "      <td>50.285303</td>\n",
              "      <td>0</td>\n",
              "      <td>0</td>\n",
              "      <td>59.0</td>\n",
              "      <td>161.0</td>\n",
              "      <td>2</td>\n",
              "      <td>6</td>\n",
              "      <td>0.7971</td>\n",
              "    </tr>\n",
              "    <tr>\n",
              "      <th>166</th>\n",
              "      <td>46.359721</td>\n",
              "      <td>1</td>\n",
              "      <td>0</td>\n",
              "      <td>67.0</td>\n",
              "      <td>169.0</td>\n",
              "      <td>2</td>\n",
              "      <td>10</td>\n",
              "      <td>0.8037</td>\n",
              "    </tr>\n",
              "    <tr>\n",
              "      <th>167</th>\n",
              "      <td>54.788368</td>\n",
              "      <td>1</td>\n",
              "      <td>0</td>\n",
              "      <td>70.0</td>\n",
              "      <td>166.0</td>\n",
              "      <td>2</td>\n",
              "      <td>14</td>\n",
              "      <td>0.8072</td>\n",
              "    </tr>\n",
              "    <tr>\n",
              "      <th>168</th>\n",
              "      <td>69.994822</td>\n",
              "      <td>0</td>\n",
              "      <td>0</td>\n",
              "      <td>68.5</td>\n",
              "      <td>165.0</td>\n",
              "      <td>2</td>\n",
              "      <td>25</td>\n",
              "      <td>0.8664</td>\n",
              "    </tr>\n",
              "  </tbody>\n",
              "</table>\n",
              "<p>169 rows × 8 columns</p>\n",
              "</div>"
            ],
            "text/plain": [
              "           age  sex  fracture  ...  medication  waiting_time     bmd\n",
              "0    57.052768    0         1  ...           0            18  0.8793\n",
              "1    75.741225    0         1  ...           2            56  0.7946\n",
              "2    70.778900    1         1  ...           2            10  0.9067\n",
              "3    78.247175    0         1  ...           2            14  0.7112\n",
              "4    54.191877    1         1  ...           2            20  0.7909\n",
              "..         ...  ...       ...  ...         ...           ...     ...\n",
              "164  77.982543    1         0  ...           2            49  0.7941\n",
              "165  50.285303    0         0  ...           2             6  0.7971\n",
              "166  46.359721    1         0  ...           2            10  0.8037\n",
              "167  54.788368    1         0  ...           2            14  0.8072\n",
              "168  69.994822    0         0  ...           2            25  0.8664\n",
              "\n",
              "[169 rows x 8 columns]"
            ]
          },
          "metadata": {},
          "execution_count": 12
        }
      ]
    },
    {
      "cell_type": "code",
      "metadata": {
        "id": "ZrqG_FlruQkl"
      },
      "source": [
        "##########################\n",
        "# Mean & Sigma Calculations\n",
        "##########################\n",
        "frac=df[df['fracture']==0].loc[:,['bmd']].values\n",
        "frac_mean=round(np.mean(frac),6)\n",
        "no_frac=df[df['fracture']==1].loc[:,['bmd']].values\n",
        "no_frac_mean=round(np.mean(no_frac),6)\n",
        "count=0\n",
        "for i in range(len(frac)):\n",
        "  count+=(frac[i]-frac_mean)**2\n",
        "for i in range(len(no_frac)):\n",
        "   count+=(no_frac[i]-no_frac_mean)**2\n",
        "sigma=math.sqrt((count)/(len(df)-2))\n",
        "sigma=round(sigma,6)"
      ],
      "execution_count": 13,
      "outputs": []
    },
    {
      "cell_type": "code",
      "metadata": {
        "colab": {
          "base_uri": "https://localhost:8080/"
        },
        "id": "8wZKakNY1J-b",
        "outputId": "48dbb989-e2f4-4018-c505-6d6a800d6561"
      },
      "source": [
        "print(frac_mean,no_frac_mean,sigma)"
      ],
      "execution_count": 14,
      "outputs": [
        {
          "output_type": "stream",
          "name": "stdout",
          "text": [
            "0.623308 0.850245 0.130539\n"
          ]
        }
      ]
    },
    {
      "cell_type": "code",
      "metadata": {
        "colab": {
          "base_uri": "https://localhost:8080/"
        },
        "id": "-RcJCJ6H1Nku",
        "outputId": "82ec058d-63d0-4b77-e086-41613f1a7df3"
      },
      "source": [
        "print(frac)"
      ],
      "execution_count": 15,
      "outputs": [
        {
          "output_type": "stream",
          "name": "stdout",
          "text": [
            "[[0.45860001]\n",
            " [0.48179999]\n",
            " [0.52789998]\n",
            " [0.52850002]\n",
            " [0.52869999]\n",
            " [0.53869998]\n",
            " [0.54189998]\n",
            " [0.55150002]\n",
            " [0.55790001]\n",
            " [0.56760001]\n",
            " [0.56349999]\n",
            " [0.57209998]\n",
            " [0.52939999]\n",
            " [0.55470002]\n",
            " [0.56029999]\n",
            " [0.5693    ]\n",
            " [0.60009998]\n",
            " [0.6103    ]\n",
            " [0.62040001]\n",
            " [0.62639999]\n",
            " [0.40759999]\n",
            " [0.44069999]\n",
            " [0.48519999]\n",
            " [0.55549997]\n",
            " [0.56150001]\n",
            " [0.61019999]\n",
            " [0.62970001]\n",
            " [0.63849998]\n",
            " [0.63880002]\n",
            " [0.64090002]\n",
            " [0.64319998]\n",
            " [0.64480001]\n",
            " [0.64950001]\n",
            " [0.67079997]\n",
            " [0.68800002]\n",
            " [0.6882    ]\n",
            " [0.68839997]\n",
            " [0.68989998]\n",
            " [0.6904    ]\n",
            " [0.6904    ]\n",
            " [0.7076    ]\n",
            " [0.70850003]\n",
            " [0.72460002]\n",
            " [0.73989999]\n",
            " [0.77450001]\n",
            " [0.79409999]\n",
            " [0.79710001]\n",
            " [0.80369997]\n",
            " [0.80720001]\n",
            " [0.8664    ]]\n"
          ]
        }
      ]
    },
    {
      "cell_type": "code",
      "metadata": {
        "colab": {
          "base_uri": "https://localhost:8080/",
          "height": 81
        },
        "id": "fywjkRDG1uw3",
        "outputId": "cd73622c-279c-44bc-a60e-ade8c54f7fb0"
      },
      "source": [
        "#########################\n",
        "# Calculating Probablility of Fractures\n",
        "# And Assigning values to a dataset\n",
        "#########################\n",
        "prob_frac=len(frac)/len(df)\n",
        "prob_no_frac=len(no_frac)/len(df)\n",
        "data={'Fracture':[prob_frac],\n",
        "      'No fracture':[prob_no_frac]}\n",
        "# Create DataFrame\n",
        "df_prob=pd.DataFrame(data)\n",
        "\n",
        "df_prob"
      ],
      "execution_count": 18,
      "outputs": [
        {
          "output_type": "execute_result",
          "data": {
            "text/html": [
              "<div>\n",
              "<style scoped>\n",
              "    .dataframe tbody tr th:only-of-type {\n",
              "        vertical-align: middle;\n",
              "    }\n",
              "\n",
              "    .dataframe tbody tr th {\n",
              "        vertical-align: top;\n",
              "    }\n",
              "\n",
              "    .dataframe thead th {\n",
              "        text-align: right;\n",
              "    }\n",
              "</style>\n",
              "<table border=\"1\" class=\"dataframe\">\n",
              "  <thead>\n",
              "    <tr style=\"text-align: right;\">\n",
              "      <th></th>\n",
              "      <th>Fracture</th>\n",
              "      <th>No fracture</th>\n",
              "    </tr>\n",
              "  </thead>\n",
              "  <tbody>\n",
              "    <tr>\n",
              "      <th>0</th>\n",
              "      <td>0.295858</td>\n",
              "      <td>0.704142</td>\n",
              "    </tr>\n",
              "  </tbody>\n",
              "</table>\n",
              "</div>"
            ],
            "text/plain": [
              "   Fracture  No fracture\n",
              "0  0.295858     0.704142"
            ]
          },
          "metadata": {},
          "execution_count": 18
        }
      ]
    },
    {
      "cell_type": "code",
      "metadata": {
        "colab": {
          "base_uri": "https://localhost:8080/"
        },
        "id": "HRHgd7Qn2ilu",
        "outputId": "48f06f26-04bd-4daf-d159-f3ad7267c927"
      },
      "source": [
        "#for fracture\n",
        "0.54*frac_mean/sigma**2-frac_mean**2/(2*sigma**2)+math.log(df_prob[\"Fracture\"])\n",
        "#for no fracture\n",
        "0.54*no_frac_mean/sigma**2-no_frac_mean**2/(2*sigma**2)+math.log(df_prob[\"Fracture\"])"
      ],
      "execution_count": 19,
      "outputs": [
        {
          "output_type": "execute_result",
          "data": {
            "text/plain": [
              "4.514022898766771"
            ]
          },
          "metadata": {},
          "execution_count": 19
        }
      ]
    },
    {
      "cell_type": "code",
      "metadata": {
        "id": "NP2OA5vH4C25"
      },
      "source": [
        "#########################\n",
        "# Function to predict fractures/no fractures\n",
        "# based on BMD values input by the user\n",
        "#########################\n",
        "def test_func(bmd):\n",
        "  Fracture = (bmd*frac_mean/sigma**2-frac_mean**2/(2*sigma**2) + math.log(df_prob[\"Fracture\"]))\n",
        "  No_Fracture = (bmd*no_frac_mean/sigma**2-no_frac_mean**2/(2*sigma**2) + math.log(df_prob[\"No fracture\"]))\n",
        "  if Fracture > No_Fracture:\n",
        "    print(\"FRACTURE PROBABLY\")\n",
        "  else:\n",
        "    print(\"NO FRACTURE PROBABLY\")\n",
        "\n",
        "\n"
      ],
      "execution_count": 28,
      "outputs": []
    },
    {
      "cell_type": "code",
      "metadata": {
        "colab": {
          "base_uri": "https://localhost:8080/"
        },
        "id": "xeRskOfM5-GY",
        "outputId": "1150710f-696e-4a4e-d401-a18dd52c3ca3"
      },
      "source": [
        "#########################\n",
        "# Input Function\n",
        "#########################\n",
        "Num= float(input(\"Enter bmd: \"))\n",
        "test_func(Num)"
      ],
      "execution_count": 29,
      "outputs": [
        {
          "output_type": "stream",
          "name": "stdout",
          "text": [
            "Enter bmd: 0.7981\n",
            "NO FRACTURE PROBABLY\n"
          ]
        }
      ]
    }
  ]
}